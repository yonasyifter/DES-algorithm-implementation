{
 "cells": [
  {
   "cell_type": "markdown",
   "metadata": {},
   "source": [
    "# Function based DES Encoding Decoding Algorithm Implementation"
   ]
  },
  {
   "cell_type": "markdown",
   "metadata": {},
   "source": [
    "Data Encryption Standard (DES) is a block cipher with a 56-bit key length that has played a significant role in data security. Data encryption standard (DES) has been found vulnerable to very powerful attacks therefore, the popularity of DES has been found slightly on the decline. DES is a block cipher and encrypts data in blocks of size of 64 bits each, which means 64 bits of plain text go as the input to DES, which produces 64 bits of ciphertext. The same algorithm and key are used for encryption and decryption, with minor differences. The key length is 56 bits. "
   ]
  },
  {
   "cell_type": "markdown",
   "metadata": {},
   "source": [
    "# hexadecimal to binary conversion function algorithm"
   ]
  },
  {
   "cell_type": "code",
   "execution_count": 13,
   "metadata": {},
   "outputs": [],
   "source": [
    "def hex2bin(s):\n",
    "    mp = {'0': \"0000\",\n",
    "        '1': \"0001\",\n",
    "        '2': \"0010\",\n",
    "        '3': \"0011\",\n",
    "        '4': \"0100\",\n",
    "        '5': \"0101\",\n",
    "        '6': \"0110\",\n",
    "        '7': \"0111\",\n",
    "        '8': \"1000\",\n",
    "        '9': \"1001\",\n",
    "        'A': \"1010\",\n",
    "        'B': \"1011\",\n",
    "        'C': \"1100\",\n",
    "        'D': \"1101\",\n",
    "        'E': \"1110\",\n",
    "        'F': \"1111\"}\n",
    "    bin = \"\"\n",
    "    for i in range(len(s)):\n",
    "        bin = bin + mp[s[i]]\n",
    "    return bin\n"
   ]
  },
  {
   "cell_type": "markdown",
   "metadata": {},
   "source": [
    "# binary to hexadecimal conversion function algorithm"
   ]
  },
  {
   "cell_type": "code",
   "execution_count": 14,
   "metadata": {},
   "outputs": [],
   "source": [
    "def bin2hex(s):\n",
    "    mp = {\"0000\": '0',\n",
    "        \"0001\": '1',\n",
    "        \"0010\": '2',\n",
    "        \"0011\": '3',\n",
    "        \"0100\": '4',\n",
    "        \"0101\": '5',\n",
    "        \"0110\": '6',\n",
    "        \"0111\": '7',\n",
    "        \"1000\": '8',\n",
    "        \"1001\": '9',\n",
    "        \"1010\": 'A',\n",
    "        \"1011\": 'B',\n",
    "        \"1100\": 'C',\n",
    "        \"1101\": 'D',\n",
    "        \"1110\": 'E',\n",
    "        \"1111\": 'F'}\n",
    "    hex = \"\"\n",
    "    for i in range(0, len(s), 4):\n",
    "        ch = \"\"\n",
    "        ch = ch + s[i]\n",
    "        ch = ch + s[i + 1]\n",
    "        ch = ch + s[i + 2]\n",
    "        ch = ch + s[i + 3]\n",
    "        hex = hex + mp[ch]\n",
    "\n",
    "    return hex\n"
   ]
  },
  {
   "cell_type": "markdown",
   "metadata": {},
   "source": [
    "# binary to decimal numbering system conversion"
   ]
  },
  {
   "cell_type": "code",
   "execution_count": 15,
   "metadata": {},
   "outputs": [],
   "source": [
    "def bin2dec(binary):\n",
    "\n",
    "    binary1 = binary\n",
    "    decimal, i, n = 0, 0, 0\n",
    "    while(binary != 0):\n",
    "        dec = binary % 10\n",
    "        decimal = decimal + dec * pow(2, i)\n",
    "        binary = binary//10\n",
    "        i += 1\n",
    "    return decimal\n"
   ]
  },
  {
   "cell_type": "markdown",
   "metadata": {},
   "source": [
    "#  decimal to binary  numbering system conversion"
   ]
  },
  {
   "cell_type": "code",
   "execution_count": 16,
   "metadata": {},
   "outputs": [],
   "source": [
    "# Decimal to binary conversion\n",
    "def dec2bin(num):\n",
    "    res = bin(num).replace(\"0b\", \"\")\n",
    "    if(len(res) % 4 != 0):\n",
    "        div = len(res) / 4\n",
    "        div = int(div)\n",
    "        counter = (4 * (div + 1)) - len(res)\n",
    "        for i in range(0, counter):\n",
    "            res = '0' + res\n",
    "    return res"
   ]
  },
  {
   "cell_type": "markdown",
   "metadata": {},
   "source": [
    "# permutation "
   ]
  },
  {
   "cell_type": "code",
   "execution_count": 17,
   "metadata": {},
   "outputs": [],
   "source": [
    "def permute(k, arr, n):\n",
    "    permutation = \"\"\n",
    "    for i in range(0, n):\n",
    "        permutation = permutation + k[arr[i] - 1]\n",
    "    return permutation\n",
    "\n"
   ]
  },
  {
   "cell_type": "markdown",
   "metadata": {},
   "source": [
    "# shifting bits to the left according the round table"
   ]
  },
  {
   "cell_type": "code",
   "execution_count": 18,
   "metadata": {},
   "outputs": [],
   "source": [
    "# shifting the bits towards left by nth shifts\n",
    "def shift_left(k, nth_shifts):\n",
    "    s = \"\"\n",
    "    for i in range(nth_shifts):\n",
    "        for j in range(1, len(k)):\n",
    "            s = s + k[j]\n",
    "        s = s + k[0]\n",
    "        k = s\n",
    "        s = \"\"\n",
    "    return k"
   ]
  },
  {
   "cell_type": "markdown",
   "metadata": {},
   "source": [
    "# XOR right have data and key generated"
   ]
  },
  {
   "cell_type": "code",
   "execution_count": 19,
   "metadata": {},
   "outputs": [],
   "source": [
    "# calculating xow of two strings of binary number a and \n",
    "\n",
    "def xor(a, b):\n",
    "    ans = \"\"\n",
    "    for i in range(len(a)):\n",
    "        if a[i] == b[i]:\n",
    "            ans = ans + \"0\"\n",
    "        else:\n",
    "            ans = ans + \"1\"\n",
    "    return ans"
   ]
  },
  {
   "cell_type": "markdown",
   "metadata": {},
   "source": [
    "# Algoritms used to implement  DES - Encoding Algorithm"
   ]
  },
  {
   "cell_type": "code",
   "execution_count": 20,
   "metadata": {},
   "outputs": [],
   "source": [
    "\n",
    "# Table of Position of 64 bits at initial level: Initial Permutation Table\n",
    "initial_perm = [58, 50, 42, 34, 26, 18, 10, 2,\n",
    "                60, 52, 44, 36, 28, 20, 12, 4,\n",
    "                62, 54, 46, 38, 30, 22, 14, 6,\n",
    "                64, 56, 48, 40, 32, 24, 16, 8,\n",
    "                57, 49, 41, 33, 25, 17, 9, 1,\n",
    "                59, 51, 43, 35, 27, 19, 11, 3,\n",
    "                61, 53, 45, 37, 29, 21, 13, 5,\n",
    "                63, 55, 47, 39, 31, 23, 15, 7]\n",
    "\n",
    "# Expansion D-box Table\n",
    "exp_d = [32, 1, 2, 3, 4, 5, 4, 5,\n",
    "        6, 7, 8, 9, 8, 9, 10, 11,\n",
    "        12, 13, 12, 13, 14, 15, 16, 17,\n",
    "        16, 17, 18, 19, 20, 21, 20, 21,\n",
    "        22, 23, 24, 25, 24, 25, 26, 27,\n",
    "        28, 29, 28, 29, 30, 31, 32, 1]\n",
    "\n",
    "# Straight Permutation Table\n",
    "per = [16, 7, 20, 21,\n",
    "        29, 12, 28, 17,\n",
    "        1, 15, 23, 26,\n",
    "        5, 18, 31, 10,\n",
    "        2, 8, 24, 14,\n",
    "        32, 27, 3, 9,\n",
    "        19, 13, 30, 6,\n",
    "        22, 11, 4, 25]\n",
    "\n",
    "# S-box Table\n",
    "sbox = [[[14, 4, 13, 1, 2, 15, 11, 8, 3, 10, 6, 12, 5, 9, 0, 7],\n",
    "        [0, 15, 7, 4, 14, 2, 13, 1, 10, 6, 12, 11, 9, 5, 3, 8],\n",
    "        [4, 1, 14, 8, 13, 6, 2, 11, 15, 12, 9, 7, 3, 10, 5, 0],\n",
    "        [15, 12, 8, 2, 4, 9, 1, 7, 5, 11, 3, 14, 10, 0, 6, 13]],\n",
    "\n",
    "        [[15, 1, 8, 14, 6, 11, 3, 4, 9, 7, 2, 13, 12, 0, 5, 10],\n",
    "        [3, 13, 4, 7, 15, 2, 8, 14, 12, 0, 1, 10, 6, 9, 11, 5],\n",
    "        [0, 14, 7, 11, 10, 4, 13, 1, 5, 8, 12, 6, 9, 3, 2, 15],\n",
    "        [13, 8, 10, 1, 3, 15, 4, 2, 11, 6, 7, 12, 0, 5, 14, 9]],\n",
    "\n",
    "        [[10, 0, 9, 14, 6, 3, 15, 5, 1, 13, 12, 7, 11, 4, 2, 8],\n",
    "        [13, 7, 0, 9, 3, 4, 6, 10, 2, 8, 5, 14, 12, 11, 15, 1],\n",
    "        [13, 6, 4, 9, 8, 15, 3, 0, 11, 1, 2, 12, 5, 10, 14, 7],\n",
    "        [1, 10, 13, 0, 6, 9, 8, 7, 4, 15, 14, 3, 11, 5, 2, 12]],\n",
    "\n",
    "        [[7, 13, 14, 3, 0, 6, 9, 10, 1, 2, 8, 5, 11, 12, 4, 15],\n",
    "        [13, 8, 11, 5, 6, 15, 0, 3, 4, 7, 2, 12, 1, 10, 14, 9],\n",
    "        [10, 6, 9, 0, 12, 11, 7, 13, 15, 1, 3, 14, 5, 2, 8, 4],\n",
    "        [3, 15, 0, 6, 10, 1, 13, 8, 9, 4, 5, 11, 12, 7, 2, 14]],\n",
    "\n",
    "        [[2, 12, 4, 1, 7, 10, 11, 6, 8, 5, 3, 15, 13, 0, 14, 9],\n",
    "        [14, 11, 2, 12, 4, 7, 13, 1, 5, 0, 15, 10, 3, 9, 8, 6],\n",
    "        [4, 2, 1, 11, 10, 13, 7, 8, 15, 9, 12, 5, 6, 3, 0, 14],\n",
    "        [11, 8, 12, 7, 1, 14, 2, 13, 6, 15, 0, 9, 10, 4, 5, 3]],\n",
    "\n",
    "        [[12, 1, 10, 15, 9, 2, 6, 8, 0, 13, 3, 4, 14, 7, 5, 11],\n",
    "        [10, 15, 4, 2, 7, 12, 9, 5, 6, 1, 13, 14, 0, 11, 3, 8],\n",
    "        [9, 14, 15, 5, 2, 8, 12, 3, 7, 0, 4, 10, 1, 13, 11, 6],\n",
    "        [4, 3, 2, 12, 9, 5, 15, 10, 11, 14, 1, 7, 6, 0, 8, 13]],\n",
    "\n",
    "        [[4, 11, 2, 14, 15, 0, 8, 13, 3, 12, 9, 7, 5, 10, 6, 1],\n",
    "        [13, 0, 11, 7, 4, 9, 1, 10, 14, 3, 5, 12, 2, 15, 8, 6],\n",
    "        [1, 4, 11, 13, 12, 3, 7, 14, 10, 15, 6, 8, 0, 5, 9, 2],\n",
    "        [6, 11, 13, 8, 1, 4, 10, 7, 9, 5, 0, 15, 14, 2, 3, 12]],\n",
    "\n",
    "        [[13, 2, 8, 4, 6, 15, 11, 1, 10, 9, 3, 14, 5, 0, 12, 7],\n",
    "        [1, 15, 13, 8, 10, 3, 7, 4, 12, 5, 6, 11, 0, 14, 9, 2],\n",
    "        [7, 11, 4, 1, 9, 12, 14, 2, 0, 6, 10, 13, 15, 3, 5, 8],\n",
    "        [2, 1, 14, 7, 4, 10, 8, 13, 15, 12, 9, 0, 3, 5, 6, 11]]]\n",
    "\n",
    "# Final Permutation Table\n",
    "final_perm = [40, 8, 48, 16, 56, 24, 64, 32,\n",
    "            39, 7, 47, 15, 55, 23, 63, 31,\n",
    "            38, 6, 46, 14, 54, 22, 62, 30,\n",
    "            37, 5, 45, 13, 53, 21, 61, 29,\n",
    "            36, 4, 44, 12, 52, 20, 60, 28,\n",
    "            35, 3, 43, 11, 51, 19, 59, 27,\n",
    "            34, 2, 42, 10, 50, 18, 58, 26,\n",
    "            33, 1, 41, 9, 49, 17, 57, 25]"
   ]
  },
  {
   "cell_type": "markdown",
   "metadata": {},
   "source": [
    "# The Implementation of The DES - Encoding Algorithm"
   ]
  },
  {
   "cell_type": "code",
   "execution_count": null,
   "metadata": {},
   "outputs": [],
   "source": []
  },
  {
   "cell_type": "code",
   "execution_count": 28,
   "metadata": {},
   "outputs": [
    {
     "name": "stdout",
     "output_type": "stream",
     "text": [
      "Encryption\n",
      "After initial permutation 14A7D67818CA18AD\n",
      "Round  1   18CA18AD   5A78E394   194CD072DE8C\n",
      "Round  2   5A78E394   4A1210F6   4568581ABCCE\n",
      "Round  3   4A1210F6   B8089591   06EDA4ACF5B5\n",
      "Round  4   B8089591   236779C2   DA2D032B6EE3\n",
      "Round  5   236779C2   A15A4B87   69A629FEC913\n",
      "Round  6   A15A4B87   2E8F9C65   C1948E87475E\n",
      "Round  7   2E8F9C65   A9FC20A3   708AD2DDB3C0\n",
      "Round  8   A9FC20A3   308BEE97   34F822F0C66D\n",
      "Round  9   308BEE97   10AF9D37   84BB4473DCCC\n",
      "Round  10   10AF9D37   6CA6CB20   02765708B5BF\n",
      "Round  11   6CA6CB20   FF3C485F   6D5560AF7CA5\n",
      "Round  12   FF3C485F   22A5963B   C2C1E96A4BF3\n",
      "Round  13   22A5963B   387CCDAA   99C31397C91F\n",
      "Round  14   387CCDAA   BD2DD2AB   251B8BC717D0\n",
      "Round  15   BD2DD2AB   CF26B472   3330C5D9A36D\n",
      "Round  16   19BA9212   CF26B472   181C5D75C66D\n"
     ]
    },
    {
     "ename": "NameError",
     "evalue": "name 'binascii' is not defined",
     "output_type": "error",
     "traceback": [
      "\u001b[0;31m---------------------------------------------------------------------------\u001b[0m",
      "\u001b[0;31mNameError\u001b[0m                                 Traceback (most recent call last)",
      "\u001b[0;32m<ipython-input-28-c552783c7bf8>\u001b[0m in \u001b[0;36m<module>\u001b[0;34m\u001b[0m\n\u001b[1;32m     58\u001b[0m \u001b[0mprint\u001b[0m\u001b[0;34m(\u001b[0m\u001b[0;34m\"Encryption\"\u001b[0m\u001b[0;34m)\u001b[0m\u001b[0;34m\u001b[0m\u001b[0;34m\u001b[0m\u001b[0m\n\u001b[1;32m     59\u001b[0m \u001b[0mcipher_text\u001b[0m \u001b[0;34m=\u001b[0m \u001b[0mbin2hex\u001b[0m\u001b[0;34m(\u001b[0m\u001b[0mencrypt\u001b[0m\u001b[0;34m(\u001b[0m\u001b[0mpt\u001b[0m\u001b[0;34m,\u001b[0m \u001b[0mrkb\u001b[0m\u001b[0;34m,\u001b[0m \u001b[0mrk\u001b[0m\u001b[0;34m)\u001b[0m\u001b[0;34m)\u001b[0m\u001b[0;34m\u001b[0m\u001b[0;34m\u001b[0m\u001b[0m\n\u001b[0;32m---> 60\u001b[0;31m \u001b[0mresult\u001b[0m \u001b[0;34m=\u001b[0m \u001b[0mbinascii\u001b[0m\u001b[0;34m.\u001b[0m\u001b[0munhexlify\u001b[0m\u001b[0;34m(\u001b[0m\u001b[0mcipher_text\u001b[0m\u001b[0;34m)\u001b[0m\u001b[0;34m\u001b[0m\u001b[0;34m\u001b[0m\u001b[0m\n\u001b[0m\u001b[1;32m     61\u001b[0m \u001b[0mprint\u001b[0m\u001b[0;34m(\u001b[0m\u001b[0mresult\u001b[0m\u001b[0;34m.\u001b[0m\u001b[0mdecode\u001b[0m\u001b[0;34m(\u001b[0m\u001b[0;34m'utf-8'\u001b[0m\u001b[0;34m)\u001b[0m\u001b[0;34m)\u001b[0m\u001b[0;34m\u001b[0m\u001b[0;34m\u001b[0m\u001b[0m\n\u001b[1;32m     62\u001b[0m \u001b[0;34m\u001b[0m\u001b[0m\n",
      "\u001b[0;31mNameError\u001b[0m: name 'binascii' is not defined"
     ]
    }
   ],
   "source": [
    "pt = \"123456ABCD132536\"\n",
    "key = \"AABB09182736CCDD\"\n",
    "\n",
    "#key = input(\" Cypher-key: \")\n",
    "# Key generation\n",
    "# --hex to binary\n",
    "key = hex2bin(key)\n",
    "\n",
    "# --parity bit drop table\n",
    "keyp = [57, 49, 41, 33, 25, 17, 9,\n",
    "        1, 58, 50, 42, 34, 26, 18,\n",
    "        10, 2, 59, 51, 43, 35, 27,\n",
    "        19, 11, 3, 60, 52, 44, 36,\n",
    "        63, 55, 47, 39, 31, 23, 15,\n",
    "        7, 62, 54, 46, 38, 30, 22,\n",
    "        14, 6, 61, 53, 45, 37, 29,\n",
    "        21, 13, 5, 28, 20, 12, 4]\n",
    "\n",
    "# getting 56 bit key from 64 bit using the parity bits\n",
    "key = permute(key, keyp, 56)\n",
    "\n",
    "# Number of bit shifts\n",
    "shift_table = [1, 1, 2, 2,\n",
    "            2, 2, 2, 2,\n",
    "            1, 2, 2, 2,\n",
    "            2, 2, 2, 1]\n",
    "\n",
    "# Key- Compression Table : Compression of key from 56 bits to 48 bits\n",
    "key_comp = [14, 17, 11, 24, 1, 5,\n",
    "            3, 28, 15, 6, 21, 10,\n",
    "            23, 19, 12, 4, 26, 8,\n",
    "            16, 7, 27, 20, 13, 2,\n",
    "            41, 52, 31, 37, 47, 55,\n",
    "            30, 40, 51, 45, 33, 48,\n",
    "            44, 49, 39, 56, 34, 53,\n",
    "            46, 42, 50, 36, 29, 32]\n",
    "\n",
    "# Splitting\n",
    "left = key[0:28] # rkb for RoundKeys in binary\n",
    "right = key[28:56] # rk for RoundKeys in hexadecimal\n",
    "\n",
    "rkb = []\n",
    "rk = []\n",
    "for i in range(0, 16):\n",
    "    # Shifting the bits by nth shifts by checking from shift table\n",
    "    left = shift_left(left, shift_table[i])\n",
    "    right = shift_left(right, shift_table[i])\n",
    "\n",
    "    # Combination of left and right string\n",
    "    combine_str = left + right\n",
    "\n",
    "    # Compression of key from 56 to 48 bits\n",
    "    round_key = permute(combine_str, key_comp, 48)\n",
    "\n",
    "    rkb.append(round_key)\n",
    "    rk.append(bin2hex(round_key))\n",
    "\n",
    "print(\"Encryption\")\n",
    "cipher_text = bin2hex(encrypt(pt, rkb, rk))\n",
    "\n",
    "\n",
    "\n",
    "print(\"Decryption\")\n",
    "rkb_rev = rkb[::-1]\n",
    "rk_rev = rk[::-1]\n",
    "text = bin2hex(encrypt(cipher_text, rkb_rev, rk_rev))\n",
    "\n",
    "\n",
    "\n",
    "# This code is contributed by Aditya Jain\n"
   ]
  },
  {
   "cell_type": "code",
   "execution_count": null,
   "metadata": {},
   "outputs": [],
   "source": []
  },
  {
   "cell_type": "code",
   "execution_count": null,
   "metadata": {},
   "outputs": [],
   "source": []
  }
 ],
 "metadata": {
  "kernelspec": {
   "display_name": "Python 3",
   "language": "python",
   "name": "python3"
  },
  "language_info": {
   "codemirror_mode": {
    "name": "ipython",
    "version": 3
   },
   "file_extension": ".py",
   "mimetype": "text/x-python",
   "name": "python",
   "nbconvert_exporter": "python",
   "pygments_lexer": "ipython3",
   "version": "3.7.3"
  }
 },
 "nbformat": 4,
 "nbformat_minor": 2
}
